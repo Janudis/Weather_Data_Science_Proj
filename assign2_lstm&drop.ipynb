{
 "cells": [
  {
   "cell_type": "code",
   "execution_count": 1,
   "metadata": {},
   "outputs": [],
   "source": [
    "from sklearn.metrics import accuracy_score\n",
    "from sklearn import preprocessing\n",
    "from sklearn.preprocessing import StandardScaler\n",
    "from sklearn.preprocessing import MinMaxScaler\n",
    "\n",
    "from sklearn.model_selection import train_test_split\n",
    "\n",
    "import matplotlib.pyplot as plt\n",
    "import numpy as np\n",
    "\n",
    "import tensorflow as tf\n",
    "from tensorflow import keras\n",
    "from tensorflow.keras.models import Sequential\n",
    "from tensorflow.keras.layers import Dense\n",
    "from tensorflow.keras.layers import LSTM\n",
    "from tensorflow.keras.layers import Dropout\n"
   ]
  },
  {
   "cell_type": "code",
   "execution_count": 2,
   "metadata": {},
   "outputs": [
    {
     "name": "stdout",
     "output_type": "stream",
     "text": [
      "             id            timestamp    value identifier  value_type_id  \\\n",
      "0        427436  2019-04-25 13:20:09  1021.80       PMSL             20   \n",
      "1        427439  2019-04-25 13:20:09    12.00        TDP             15   \n",
      "2        427434  2019-04-25 13:20:09     0.00        P6H             13   \n",
      "3        427435  2019-04-25 13:20:09     0.51       P24H             14   \n",
      "4        427440  2019-04-25 13:20:09     3.00        UVI             16   \n",
      "...         ...                  ...      ...        ...            ...   \n",
      "406714  6426613  2019-07-29 23:40:08    23.00          T             11   \n",
      "406715  6426610  2019-07-29 23:40:08     0.00       P24H             14   \n",
      "406716  6426611  2019-07-29 23:40:08  1007.10       PMSL             55   \n",
      "406717  6426617  2019-07-29 23:40:08     0.00         WS             18   \n",
      "406718  6426596  2019-07-29 23:40:08   310.00         WD             17   \n",
      "\n",
      "        location_id  source_id  \n",
      "0              23.0          5  \n",
      "1              23.0          5  \n",
      "2              23.0          5  \n",
      "3              23.0          5  \n",
      "4              23.0          5  \n",
      "...             ...        ...  \n",
      "406714        116.0          5  \n",
      "406715        116.0          5  \n",
      "406716        116.0          5  \n",
      "406717        116.0          5  \n",
      "406718         30.0          5  \n",
      "\n",
      "[406719 rows x 7 columns]\n"
     ]
    }
   ],
   "source": [
    "import pandas as pd\n",
    "file_path = 'wheather_data.csv'\n",
    "reviews = pd.read_csv(file_path) \n",
    "#pd.set_option(\"display.max_rows\", 8)\n",
    "dataset = reviews.values\n",
    "print(reviews)"
   ]
  },
  {
   "cell_type": "code",
   "execution_count": 3,
   "metadata": {},
   "outputs": [
    {
     "name": "stdout",
     "output_type": "stream",
     "text": [
      "             id    value identifier  value_type_id  location_id  source_id  \\\n",
      "0        427436  1021.80       PMSL             20         23.0          5   \n",
      "1        427439    12.00        TDP             15         23.0          5   \n",
      "2        427434     0.00        P6H             13         23.0          5   \n",
      "3        427435     0.51       P24H             14         23.0          5   \n",
      "4        427440     3.00        UVI             16         23.0          5   \n",
      "...         ...      ...        ...            ...          ...        ...   \n",
      "406714  6426613    23.00          T             11        116.0          5   \n",
      "406715  6426610     0.00       P24H             14        116.0          5   \n",
      "406716  6426611  1007.10       PMSL             55        116.0          5   \n",
      "406717  6426617     0.00         WS             18        116.0          5   \n",
      "406718  6426596   310.00         WD             17         30.0          5   \n",
      "\n",
      "        month  day        date                 unix  \n",
      "0           4   25  2019-04-25  1556150400000000000  \n",
      "1           4   25  2019-04-25  1556150400000000000  \n",
      "2           4   25  2019-04-25  1556150400000000000  \n",
      "3           4   25  2019-04-25  1556150400000000000  \n",
      "4           4   25  2019-04-25  1556150400000000000  \n",
      "...       ...  ...         ...                  ...  \n",
      "406714      7   29  2019-07-29  1564358400000000000  \n",
      "406715      7   29  2019-07-29  1564358400000000000  \n",
      "406716      7   29  2019-07-29  1564358400000000000  \n",
      "406717      7   29  2019-07-29  1564358400000000000  \n",
      "406718      7   29  2019-07-29  1564358400000000000  \n",
      "\n",
      "[406719 rows x 10 columns]\n"
     ]
    },
    {
     "name": "stderr",
     "output_type": "stream",
     "text": [
      "<ipython-input-3-78eccf365fad>:5: FutureWarning: casting datetime64[ns] values to int64 with .astype(...) is deprecated and will raise in a future version. Use .view(...) instead.\n",
      "  reviews['unix'] = pd.DatetimeIndex(reviews.date).astype(np.int32)\n"
     ]
    }
   ],
   "source": [
    "reviews['timestamp'] = pd.to_datetime(reviews['timestamp'], format = '%Y-%m-%d %H:%M:%S')#.dt.datetime\n",
    "reviews['month'] = reviews.timestamp.dt.month\n",
    "reviews['day'] = reviews.timestamp.dt.day\n",
    "reviews['date'] = reviews.timestamp.dt.date\n",
    "reviews['unix'] = pd.DatetimeIndex(reviews.date).astype(np.int32)\n",
    "reviews = reviews.drop('timestamp', axis = 1)\n",
    "print(reviews)"
   ]
  },
  {
   "cell_type": "code",
   "execution_count": 17,
   "metadata": {},
   "outputs": [
    {
     "name": "stdout",
     "output_type": "stream",
     "text": [
      "[[1.2000e+01]\n",
      " [0.0000e+00]\n",
      " [5.1000e-01]\n",
      " ...\n",
      " [1.0071e+03]\n",
      " [0.0000e+00]\n",
      " [3.1000e+02]]\n",
      "        value_type_id    value  month  day\n",
      "0                  20  1021.80      4   25\n",
      "1                  15    12.00      4   25\n",
      "2                  13     0.00      4   25\n",
      "3                  14     0.51      4   25\n",
      "4                  16     3.00      4   25\n",
      "...               ...      ...    ...  ...\n",
      "406713             12     0.00      7   29\n",
      "406714             11    23.00      7   29\n",
      "406715             14     0.00      7   29\n",
      "406716             55  1007.10      7   29\n",
      "406717             18     0.00      7   29\n",
      "\n",
      "[406718 rows x 4 columns]\n"
     ]
    }
   ],
   "source": [
    "y = reviews.value.loc[1:]\n",
    "y = np.array(y)\n",
    "y = y.reshape(-1,1)\n",
    "\n",
    "\n",
    "df_features = ['value_type_id', 'value','month', 'day']\n",
    "X = reviews[df_features]\n",
    "X = X.iloc[:-1]\n",
    "#X = X.values\n",
    "print(y)\n",
    "print(X)"
   ]
  },
  {
   "cell_type": "code",
   "execution_count": 18,
   "metadata": {},
   "outputs": [
    {
     "name": "stdout",
     "output_type": "stream",
     "text": [
      "4\n"
     ]
    }
   ],
   "source": [
    "scaler = MinMaxScaler()\n",
    "X_scale= scaler.fit_transform(X) \n",
    "print(X_scale.shape[1])\n"
   ]
  },
  {
   "cell_type": "code",
   "execution_count": 19,
   "metadata": {},
   "outputs": [
    {
     "name": "stdout",
     "output_type": "stream",
     "text": [
      "[[1.17612061e-02]\n",
      " [1.85924716e-05]\n",
      " [5.17653552e-04]\n",
      " ...\n",
      " [9.85517443e-01]\n",
      " [1.85924716e-05]\n",
      " [3.03369445e-01]]\n"
     ]
    }
   ],
   "source": [
    "y_scale= scaler.fit_transform(y.reshape(-1, 1))\n",
    "print(y_scale)\n"
   ]
  },
  {
   "cell_type": "code",
   "execution_count": 20,
   "metadata": {},
   "outputs": [],
   "source": [
    "X_scale = np.reshape(X_scale, (int(X_scale.shape[0]/2) , 2 , X_scale.shape[1]))\n",
    "y_scale = np.reshape(y_scale, (int(y_scale.shape[0]/2) , 2 , y_scale.shape[1]))"
   ]
  },
  {
   "cell_type": "code",
   "execution_count": 21,
   "metadata": {},
   "outputs": [
    {
     "name": "stdout",
     "output_type": "stream",
     "text": [
      "(142351, 2, 4)\n",
      "(30504, 2, 4)\n"
     ]
    }
   ],
   "source": [
    "X_train, X_val_and_test, Y_train, Y_val_and_test = train_test_split(X_scale, y_scale, test_size=0.3)\n",
    "X_val, X_test, Y_val, Y_test = train_test_split(X_val_and_test, Y_val_and_test, test_size=0.5)\n",
    "\n",
    "print(X_train.shape)\n",
    "print(X_test.shape)"
   ]
  },
  {
   "cell_type": "code",
   "execution_count": 22,
   "metadata": {},
   "outputs": [],
   "source": [
    "tf.keras.layers.InputLayer(input_shape = X_train.shape[2])\n",
    "                           \n",
    "rnn = Sequential()\n",
    "                           \n",
    "rnn.add(LSTM(units = 45, return_sequences = True))\n",
    "\n"
   ]
  },
  {
   "cell_type": "code",
   "execution_count": 23,
   "metadata": {},
   "outputs": [],
   "source": [
    "for i in [True, True, False]:  #3 ltsm layers, false to teleutaio gia n mn mpei tetarto\n",
    "    rnn.add(LSTM(units = 45, return_sequences = i))\n",
    "    rnn.add(Dropout(0.2))   #dropping 20%\n",
    "    \n",
    "#return_sequences = True - this must always be specified if you plan on including another LSTM layer after the one you're adding. \n",
    "#You should specify return_sequences = False for the last LSTM layer in your recurrent neural network.   "
   ]
  },
  {
   "cell_type": "code",
   "execution_count": 24,
   "metadata": {},
   "outputs": [],
   "source": [
    "rnn.add(Dense(units = 1)) #1 eksodo"
   ]
  },
  {
   "cell_type": "code",
   "execution_count": 25,
   "metadata": {},
   "outputs": [],
   "source": [
    "opt = tf.keras.optimizers.Adam(learning_rate=0.001)"
   ]
  },
  {
   "cell_type": "code",
   "execution_count": 26,
   "metadata": {},
   "outputs": [],
   "source": [
    "rnn.compile(optimizer = opt, loss = 'mean_squared_error')"
   ]
  },
  {
   "cell_type": "code",
   "execution_count": 27,
   "metadata": {},
   "outputs": [
    {
     "name": "stdout",
     "output_type": "stream",
     "text": [
      "Epoch 1/20\n",
      "285/285 [==============================] - 13s 19ms/step - loss: 0.0877\n",
      "Epoch 2/20\n",
      "285/285 [==============================] - 6s 20ms/step - loss: 0.0779\n",
      "Epoch 3/20\n",
      "285/285 [==============================] - 6s 20ms/step - loss: 0.0776\n",
      "Epoch 4/20\n",
      "285/285 [==============================] - 5s 19ms/step - loss: 0.0775\n",
      "Epoch 5/20\n",
      "285/285 [==============================] - 6s 20ms/step - loss: 0.0774\n",
      "Epoch 6/20\n",
      "285/285 [==============================] - 6s 22ms/step - loss: 0.0773\n",
      "Epoch 7/20\n",
      "285/285 [==============================] - 5s 19ms/step - loss: 0.0773\n",
      "Epoch 8/20\n",
      "285/285 [==============================] - 5s 18ms/step - loss: 0.0773\n",
      "Epoch 9/20\n",
      "285/285 [==============================] - 6s 20ms/step - loss: 0.0773\n",
      "Epoch 10/20\n",
      "285/285 [==============================] - 5s 18ms/step - loss: 0.0772\n",
      "Epoch 11/20\n",
      "285/285 [==============================] - 6s 19ms/step - loss: 0.0772\n",
      "Epoch 12/20\n",
      "285/285 [==============================] - 5s 19ms/step - loss: 0.0772\n",
      "Epoch 13/20\n",
      "285/285 [==============================] - 5s 18ms/step - loss: 0.0772\n",
      "Epoch 14/20\n",
      "285/285 [==============================] - 5s 18ms/step - loss: 0.0772\n",
      "Epoch 15/20\n",
      "285/285 [==============================] - 5s 18ms/step - loss: 0.0772\n",
      "Epoch 16/20\n",
      "285/285 [==============================] - 5s 18ms/step - loss: 0.0772\n",
      "Epoch 17/20\n",
      "285/285 [==============================] - 5s 18ms/step - loss: 0.0772\n",
      "Epoch 18/20\n",
      "285/285 [==============================] - 5s 18ms/step - loss: 0.0772\n",
      "Epoch 19/20\n",
      "285/285 [==============================] - 5s 18ms/step - loss: 0.0772\n",
      "Epoch 20/20\n",
      "285/285 [==============================] - 5s 18ms/step - loss: 0.0772\n"
     ]
    },
    {
     "data": {
      "text/plain": [
       "<tensorflow.python.keras.callbacks.History at 0x26e264451f0>"
      ]
     },
     "execution_count": 27,
     "metadata": {},
     "output_type": "execute_result"
    }
   ],
   "source": [
    "rnn.fit(X_train, Y_train, epochs = 20, batch_size = 500)"
   ]
  },
  {
   "cell_type": "code",
   "execution_count": 15,
   "metadata": {},
   "outputs": [
    {
     "name": "stdout",
     "output_type": "stream",
     "text": [
      "[[0.14758424]\n",
      " [0.10719644]\n",
      " [0.08861003]\n",
      " ...\n",
      " [0.10006165]\n",
      " [0.08015412]\n",
      " [0.08589125]]\n"
     ]
    }
   ],
   "source": [
    "predictions = rnn.predict(X_test)\n",
    "print(predictions)\n",
    "#plt.plot(predictions)"
   ]
  },
  {
   "cell_type": "code",
   "execution_count": 16,
   "metadata": {},
   "outputs": [
    {
     "name": "stdout",
     "output_type": "stream",
     "text": [
      "[[ 68.7344  ]\n",
      " [ 81.70689 ]\n",
      " [ 81.45553 ]\n",
      " ...\n",
      " [ 76.0779  ]\n",
      " [ 45.092247]\n",
      " [116.20332 ]]\n"
     ]
    }
   ],
   "source": [
    "unscaled_predictions = scaler.inverse_transform(predictions)\n",
    "print(unscaled_predictions)"
   ]
  },
  {
   "cell_type": "code",
   "execution_count": 28,
   "metadata": {},
   "outputs": [
    {
     "data": {
      "text/html": [
       "<div>\n",
       "<style scoped>\n",
       "    .dataframe tbody tr th:only-of-type {\n",
       "        vertical-align: middle;\n",
       "    }\n",
       "\n",
       "    .dataframe tbody tr th {\n",
       "        vertical-align: top;\n",
       "    }\n",
       "\n",
       "    .dataframe thead th {\n",
       "        text-align: right;\n",
       "    }\n",
       "</style>\n",
       "<table border=\"1\" class=\"dataframe\">\n",
       "  <thead>\n",
       "    <tr style=\"text-align: right;\">\n",
       "      <th></th>\n",
       "      <th>value_type_id</th>\n",
       "      <th>value</th>\n",
       "      <th>month</th>\n",
       "      <th>day</th>\n",
       "    </tr>\n",
       "  </thead>\n",
       "  <tbody>\n",
       "    <tr>\n",
       "      <th>value_type_id</th>\n",
       "      <td>1.000000</td>\n",
       "      <td>0.255192</td>\n",
       "      <td>0.126457</td>\n",
       "      <td>0.261311</td>\n",
       "    </tr>\n",
       "    <tr>\n",
       "      <th>value</th>\n",
       "      <td>0.255192</td>\n",
       "      <td>1.000000</td>\n",
       "      <td>0.012571</td>\n",
       "      <td>-0.027193</td>\n",
       "    </tr>\n",
       "    <tr>\n",
       "      <th>month</th>\n",
       "      <td>0.126457</td>\n",
       "      <td>0.012571</td>\n",
       "      <td>1.000000</td>\n",
       "      <td>-0.364762</td>\n",
       "    </tr>\n",
       "    <tr>\n",
       "      <th>day</th>\n",
       "      <td>0.261311</td>\n",
       "      <td>-0.027193</td>\n",
       "      <td>-0.364762</td>\n",
       "      <td>1.000000</td>\n",
       "    </tr>\n",
       "  </tbody>\n",
       "</table>\n",
       "</div>"
      ],
      "text/plain": [
       "               value_type_id     value     month       day\n",
       "value_type_id       1.000000  0.255192  0.126457  0.261311\n",
       "value               0.255192  1.000000  0.012571 -0.027193\n",
       "month               0.126457  0.012571  1.000000 -0.364762\n",
       "day                 0.261311 -0.027193 -0.364762  1.000000"
      ]
     },
     "execution_count": 28,
     "metadata": {},
     "output_type": "execute_result"
    }
   ],
   "source": [
    "X = pd.DataFrame(X)\n",
    "\n",
    "pd.DataFrame.corr(X,\"spearman\")"
   ]
  },
  {
   "cell_type": "code",
   "execution_count": null,
   "metadata": {},
   "outputs": [],
   "source": []
  }
 ],
 "metadata": {
  "kernelspec": {
   "display_name": "Python 3",
   "language": "python",
   "name": "python3"
  },
  "language_info": {
   "codemirror_mode": {
    "name": "ipython",
    "version": 3
   },
   "file_extension": ".py",
   "mimetype": "text/x-python",
   "name": "python",
   "nbconvert_exporter": "python",
   "pygments_lexer": "ipython3",
   "version": "3.9.5"
  }
 },
 "nbformat": 4,
 "nbformat_minor": 4
}
